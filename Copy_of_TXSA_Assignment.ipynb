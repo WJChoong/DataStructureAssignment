{
  "nbformat": 4,
  "nbformat_minor": 0,
  "metadata": {
    "colab": {
      "provenance": [],
      "include_colab_link": true
    },
    "kernelspec": {
      "name": "python3",
      "display_name": "Python 3"
    },
    "language_info": {
      "name": "python"
    }
  },
  "cells": [
    {
      "cell_type": "markdown",
      "metadata": {
        "id": "view-in-github",
        "colab_type": "text"
      },
      "source": [
        "<a href=\"https://colab.research.google.com/github/WJChoong/DataStructureAssignment/blob/main/Copy_of_TXSA_Assignment.ipynb\" target=\"_parent\"><img src=\"https://colab.research.google.com/assets/colab-badge.svg\" alt=\"Open In Colab\"/></a>"
      ]
    },
    {
      "cell_type": "code",
      "source": [
        "file_path = '/content/Data_1.txt'\n",
        "\n",
        "with open(file_path, 'r') as file:\n",
        "\n",
        "    text = file.read()"
      ],
      "metadata": {
        "id": "urLas-wb_gQG",
        "outputId": "f1bb009f-a989-400a-9445-ab99d0f5fe19",
        "colab": {
          "base_uri": "https://localhost:8080/",
          "height": 235
        }
      },
      "execution_count": null,
      "outputs": [
        {
          "output_type": "error",
          "ename": "FileNotFoundError",
          "evalue": "ignored",
          "traceback": [
            "\u001b[0;31m---------------------------------------------------------------------------\u001b[0m",
            "\u001b[0;31mFileNotFoundError\u001b[0m                         Traceback (most recent call last)",
            "\u001b[0;32m<ipython-input-1-d88465d65287>\u001b[0m in \u001b[0;36m<cell line: 3>\u001b[0;34m()\u001b[0m\n\u001b[1;32m      1\u001b[0m \u001b[0mfile_path\u001b[0m \u001b[0;34m=\u001b[0m \u001b[0;34m'/content/Data_1.txt'\u001b[0m\u001b[0;34m\u001b[0m\u001b[0;34m\u001b[0m\u001b[0m\n\u001b[1;32m      2\u001b[0m \u001b[0;34m\u001b[0m\u001b[0m\n\u001b[0;32m----> 3\u001b[0;31m \u001b[0;32mwith\u001b[0m \u001b[0mopen\u001b[0m\u001b[0;34m(\u001b[0m\u001b[0mfile_path\u001b[0m\u001b[0;34m,\u001b[0m \u001b[0;34m'r'\u001b[0m\u001b[0;34m)\u001b[0m \u001b[0;32mas\u001b[0m \u001b[0mfile\u001b[0m\u001b[0;34m:\u001b[0m\u001b[0;34m\u001b[0m\u001b[0;34m\u001b[0m\u001b[0m\n\u001b[0m\u001b[1;32m      4\u001b[0m \u001b[0;34m\u001b[0m\u001b[0m\n\u001b[1;32m      5\u001b[0m     \u001b[0mtext\u001b[0m \u001b[0;34m=\u001b[0m \u001b[0mfile\u001b[0m\u001b[0;34m.\u001b[0m\u001b[0mread\u001b[0m\u001b[0;34m(\u001b[0m\u001b[0;34m)\u001b[0m\u001b[0;34m\u001b[0m\u001b[0;34m\u001b[0m\u001b[0m\n",
            "\u001b[0;31mFileNotFoundError\u001b[0m: [Errno 2] No such file or directory: '/content/Data_1.txt'"
          ]
        }
      ]
    },
    {
      "cell_type": "code",
      "source": [
        "tokens = text.split()\n",
        "\n",
        "print(\"There are\", len(tokens), \"tokens in this text.\\n\")\n",
        "\n",
        "print (\"Regular Expression\")\n",
        "counter = 0\n",
        "for word in tokens:\n",
        "    counter+=1\n",
        "    print(counter,\".\",word)"
      ],
      "metadata": {
        "id": "5vthoDcA_suQ",
        "outputId": "6c6bf583-8583-46e5-d147-171b189addc3",
        "colab": {
          "base_uri": "https://localhost:8080/",
          "height": 235
        }
      },
      "execution_count": null,
      "outputs": [
        {
          "output_type": "error",
          "ename": "NameError",
          "evalue": "ignored",
          "traceback": [
            "\u001b[0;31m---------------------------------------------------------------------------\u001b[0m",
            "\u001b[0;31mNameError\u001b[0m                                 Traceback (most recent call last)",
            "\u001b[0;32m<ipython-input-2-306a1ecd82fe>\u001b[0m in \u001b[0;36m<cell line: 1>\u001b[0;34m()\u001b[0m\n\u001b[0;32m----> 1\u001b[0;31m \u001b[0mtokens\u001b[0m \u001b[0;34m=\u001b[0m \u001b[0mtext\u001b[0m\u001b[0;34m.\u001b[0m\u001b[0msplit\u001b[0m\u001b[0;34m(\u001b[0m\u001b[0;34m)\u001b[0m\u001b[0;34m\u001b[0m\u001b[0;34m\u001b[0m\u001b[0m\n\u001b[0m\u001b[1;32m      2\u001b[0m \u001b[0;34m\u001b[0m\u001b[0m\n\u001b[1;32m      3\u001b[0m \u001b[0mprint\u001b[0m\u001b[0;34m(\u001b[0m\u001b[0;34m\"There are\"\u001b[0m\u001b[0;34m,\u001b[0m \u001b[0mlen\u001b[0m\u001b[0;34m(\u001b[0m\u001b[0mtokens\u001b[0m\u001b[0;34m)\u001b[0m\u001b[0;34m,\u001b[0m \u001b[0;34m\"tokens in this text.\\n\"\u001b[0m\u001b[0;34m)\u001b[0m\u001b[0;34m\u001b[0m\u001b[0;34m\u001b[0m\u001b[0m\n\u001b[1;32m      4\u001b[0m \u001b[0;34m\u001b[0m\u001b[0m\n\u001b[1;32m      5\u001b[0m \u001b[0mprint\u001b[0m \u001b[0;34m(\u001b[0m\u001b[0;34m\"Regular Expression\"\u001b[0m\u001b[0;34m)\u001b[0m\u001b[0;34m\u001b[0m\u001b[0;34m\u001b[0m\u001b[0m\n",
            "\u001b[0;31mNameError\u001b[0m: name 'text' is not defined"
          ]
        }
      ]
    },
    {
      "cell_type": "code",
      "source": [
        "import re\n",
        "\n",
        "pattern = r\"\\w+\"\n",
        "tokens = re.findall(pattern, text)\n",
        "\n",
        "print(\"There are\", len(tokens), \"tokens in this text.\\n\")\n",
        "\n",
        "print (\"Regular Expression\")\n",
        "counter = 0\n",
        "for word in tokens:\n",
        "    counter+=1\n",
        "    print(counter,\".\",word)"
      ],
      "metadata": {
        "colab": {
          "base_uri": "https://localhost:8080/"
        },
        "id": "_0P7d_gDu1d4",
        "outputId": "077c51c2-c1ce-49a9-ca44-140e06276c15"
      },
      "execution_count": null,
      "outputs": [
        {
          "output_type": "stream",
          "name": "stdout",
          "text": [
            "There are 45 tokens in this text.\n",
            "\n",
            "Regular Expression\n",
            "1 . Textual\n",
            "2 . information\n",
            "3 . in\n",
            "4 . the\n",
            "5 . world\n",
            "6 . can\n",
            "7 . be\n",
            "8 . broadly\n",
            "9 . categorized\n",
            "10 . into\n",
            "11 . two\n",
            "12 . main\n",
            "13 . types\n",
            "14 . facts\n",
            "15 . and\n",
            "16 . opinions\n",
            "17 . Facts\n",
            "18 . are\n",
            "19 . objective\n",
            "20 . expressions\n",
            "21 . about\n",
            "22 . entities\n",
            "23 . events\n",
            "24 . and\n",
            "25 . their\n",
            "26 . properties\n",
            "27 . Opinions\n",
            "28 . are\n",
            "29 . usually\n",
            "30 . subjective\n",
            "31 . expressions\n",
            "32 . that\n",
            "33 . describe\n",
            "34 . people\n",
            "35 . s\n",
            "36 . sentiments\n",
            "37 . appraisals\n",
            "38 . or\n",
            "39 . feelings\n",
            "40 . toward\n",
            "41 . entities\n",
            "42 . events\n",
            "43 . and\n",
            "44 . their\n",
            "45 . properties\n"
          ]
        }
      ]
    },
    {
      "cell_type": "code",
      "source": [
        "import nltk\n",
        "nltk.download('punkt')\n",
        "from nltk.tokenize import word_tokenize\n",
        "\n",
        "tokens = word_tokenize(text)\n",
        "\n",
        "print(\"There are\", len(tokens), \"tokens in this text.\\n\")\n",
        "\n",
        "print (\"Regular Expression\")\n",
        "counter = 0\n",
        "for word in tokens:\n",
        "    counter+=1\n",
        "    print(counter,\".\",word)"
      ],
      "metadata": {
        "id": "x6cCZVxq_W_s"
      },
      "execution_count": null,
      "outputs": []
    }
  ]
}